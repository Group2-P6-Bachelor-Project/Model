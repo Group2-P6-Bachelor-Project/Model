{
  "cells": [
    {
      "cell_type": "markdown",
      "metadata": {
        "id": "view-in-github",
        "colab_type": "text"
      },
      "source": [
        "<a href=\"https://colab.research.google.com/github/Group2-P6-Bachelor-Project/Model/blob/main/P6_Bachelor_Project.ipynb\" target=\"_parent\"><img src=\"https://colab.research.google.com/assets/colab-badge.svg\" alt=\"Open In Colab\"/></a>"
      ]
    },
    {
      "cell_type": "markdown",
      "metadata": {
        "id": "CBf484kFGrpz"
      },
      "source": [
        "Mounting and Importing packages"
      ]
    },
    {
      "cell_type": "code",
      "execution_count": null,
      "metadata": {
        "colab": {
          "base_uri": "https://localhost:8080/"
        },
        "id": "dYe-U-F8qaVR",
        "outputId": "ac779819-755d-457e-b727-c3df33100c31"
      },
      "outputs": [
        {
          "output_type": "stream",
          "name": "stdout",
          "text": [
            "2.14.0-dev20230520\n",
            "Looking in indexes: https://pypi.org/simple, https://us-python.pkg.dev/colab-wheels/public/simple/\n",
            "Requirement already satisfied: pyunpack in /usr/local/lib/python3.10/dist-packages (0.3)\n",
            "Requirement already satisfied: easyprocess in /usr/local/lib/python3.10/dist-packages (from pyunpack) (1.1)\n",
            "Requirement already satisfied: entrypoint2 in /usr/local/lib/python3.10/dist-packages (from pyunpack) (1.1)\n",
            "Looking in indexes: https://pypi.org/simple, https://us-python.pkg.dev/colab-wheels/public/simple/\n",
            "Requirement already satisfied: patool in /usr/local/lib/python3.10/dist-packages (1.12)\n",
            "Looking in indexes: https://pypi.org/simple, https://us-python.pkg.dev/colab-wheels/public/simple/\n",
            "Requirement already satisfied: tf-nightly in /usr/local/lib/python3.10/dist-packages (2.14.0.dev20230520)\n",
            "Requirement already satisfied: absl-py>=1.0.0 in /usr/local/lib/python3.10/dist-packages (from tf-nightly) (1.4.0)\n",
            "Requirement already satisfied: astunparse>=1.6.0 in /usr/local/lib/python3.10/dist-packages (from tf-nightly) (1.6.3)\n",
            "Requirement already satisfied: flatbuffers>=23.1.21 in /usr/local/lib/python3.10/dist-packages (from tf-nightly) (23.3.3)\n",
            "Requirement already satisfied: gast<=0.4.0,>=0.2.1 in /usr/local/lib/python3.10/dist-packages (from tf-nightly) (0.4.0)\n",
            "Requirement already satisfied: google-pasta>=0.1.1 in /usr/local/lib/python3.10/dist-packages (from tf-nightly) (0.2.0)\n",
            "Requirement already satisfied: grpcio<2.0,>=1.24.3 in /usr/local/lib/python3.10/dist-packages (from tf-nightly) (1.54.0)\n",
            "Requirement already satisfied: h5py>=2.9.0 in /usr/local/lib/python3.10/dist-packages (from tf-nightly) (3.8.0)\n",
            "Requirement already satisfied: keras-nightly~=2.14.0.dev in /usr/local/lib/python3.10/dist-packages (from tf-nightly) (2.14.0.dev2023052207)\n",
            "Requirement already satisfied: libclang>=13.0.0 in /usr/local/lib/python3.10/dist-packages (from tf-nightly) (16.0.0)\n",
            "Requirement already satisfied: numpy>=1.22 in /usr/local/lib/python3.10/dist-packages (from tf-nightly) (1.22.4)\n",
            "Requirement already satisfied: opt-einsum>=2.3.2 in /usr/local/lib/python3.10/dist-packages (from tf-nightly) (3.3.0)\n",
            "Requirement already satisfied: packaging in /usr/local/lib/python3.10/dist-packages (from tf-nightly) (23.1)\n",
            "Requirement already satisfied: protobuf!=4.21.0,!=4.21.1,!=4.21.2,!=4.21.3,!=4.21.4,!=4.21.5,<5.0.0dev,>=3.20.3 in /usr/local/lib/python3.10/dist-packages (from tf-nightly) (3.20.3)\n",
            "Requirement already satisfied: setuptools in /usr/local/lib/python3.10/dist-packages (from tf-nightly) (67.7.2)\n",
            "Requirement already satisfied: six>=1.12.0 in /usr/local/lib/python3.10/dist-packages (from tf-nightly) (1.16.0)\n",
            "Requirement already satisfied: tb-nightly~=2.14.0.a in /usr/local/lib/python3.10/dist-packages (from tf-nightly) (2.14.0a20230521)\n",
            "Requirement already satisfied: termcolor>=1.1.0 in /usr/local/lib/python3.10/dist-packages (from tf-nightly) (2.3.0)\n",
            "Requirement already satisfied: tf-estimator-nightly~=2.14.0.dev in /usr/local/lib/python3.10/dist-packages (from tf-nightly) (2.14.0.dev2023052208)\n",
            "Requirement already satisfied: typing-extensions>=3.6.6 in /usr/local/lib/python3.10/dist-packages (from tf-nightly) (4.5.0)\n",
            "Requirement already satisfied: wrapt>=1.11.0 in /usr/local/lib/python3.10/dist-packages (from tf-nightly) (1.14.1)\n",
            "Requirement already satisfied: tensorflow-io-gcs-filesystem>=0.23.1 in /usr/local/lib/python3.10/dist-packages (from tf-nightly) (0.32.0)\n",
            "Requirement already satisfied: wheel<1.0,>=0.23.0 in /usr/local/lib/python3.10/dist-packages (from astunparse>=1.6.0->tf-nightly) (0.40.0)\n",
            "Requirement already satisfied: google-auth<3,>=1.6.3 in /usr/local/lib/python3.10/dist-packages (from tb-nightly~=2.14.0.a->tf-nightly) (2.17.3)\n",
            "Requirement already satisfied: google-auth-oauthlib<1.1,>=0.5 in /usr/local/lib/python3.10/dist-packages (from tb-nightly~=2.14.0.a->tf-nightly) (1.0.0)\n",
            "Requirement already satisfied: markdown>=2.6.8 in /usr/local/lib/python3.10/dist-packages (from tb-nightly~=2.14.0.a->tf-nightly) (3.4.3)\n",
            "Requirement already satisfied: requests<3,>=2.21.0 in /usr/local/lib/python3.10/dist-packages (from tb-nightly~=2.14.0.a->tf-nightly) (2.27.1)\n",
            "Requirement already satisfied: tensorboard-data-server<0.8.0,>=0.7.0 in /usr/local/lib/python3.10/dist-packages (from tb-nightly~=2.14.0.a->tf-nightly) (0.7.0)\n",
            "Requirement already satisfied: werkzeug>=1.0.1 in /usr/local/lib/python3.10/dist-packages (from tb-nightly~=2.14.0.a->tf-nightly) (2.3.0)\n",
            "Requirement already satisfied: cachetools<6.0,>=2.0.0 in /usr/local/lib/python3.10/dist-packages (from google-auth<3,>=1.6.3->tb-nightly~=2.14.0.a->tf-nightly) (5.3.0)\n",
            "Requirement already satisfied: pyasn1-modules>=0.2.1 in /usr/local/lib/python3.10/dist-packages (from google-auth<3,>=1.6.3->tb-nightly~=2.14.0.a->tf-nightly) (0.3.0)\n",
            "Requirement already satisfied: rsa<5,>=3.1.4 in /usr/local/lib/python3.10/dist-packages (from google-auth<3,>=1.6.3->tb-nightly~=2.14.0.a->tf-nightly) (4.9)\n",
            "Requirement already satisfied: requests-oauthlib>=0.7.0 in /usr/local/lib/python3.10/dist-packages (from google-auth-oauthlib<1.1,>=0.5->tb-nightly~=2.14.0.a->tf-nightly) (1.3.1)\n",
            "Requirement already satisfied: urllib3<1.27,>=1.21.1 in /usr/local/lib/python3.10/dist-packages (from requests<3,>=2.21.0->tb-nightly~=2.14.0.a->tf-nightly) (1.26.15)\n",
            "Requirement already satisfied: certifi>=2017.4.17 in /usr/local/lib/python3.10/dist-packages (from requests<3,>=2.21.0->tb-nightly~=2.14.0.a->tf-nightly) (2022.12.7)\n",
            "Requirement already satisfied: charset-normalizer~=2.0.0 in /usr/local/lib/python3.10/dist-packages (from requests<3,>=2.21.0->tb-nightly~=2.14.0.a->tf-nightly) (2.0.12)\n",
            "Requirement already satisfied: idna<4,>=2.5 in /usr/local/lib/python3.10/dist-packages (from requests<3,>=2.21.0->tb-nightly~=2.14.0.a->tf-nightly) (3.4)\n",
            "Requirement already satisfied: MarkupSafe>=2.1.1 in /usr/local/lib/python3.10/dist-packages (from werkzeug>=1.0.1->tb-nightly~=2.14.0.a->tf-nightly) (2.1.2)\n",
            "Requirement already satisfied: pyasn1<0.6.0,>=0.4.6 in /usr/local/lib/python3.10/dist-packages (from pyasn1-modules>=0.2.1->google-auth<3,>=1.6.3->tb-nightly~=2.14.0.a->tf-nightly) (0.5.0)\n",
            "Requirement already satisfied: oauthlib>=3.0.0 in /usr/local/lib/python3.10/dist-packages (from requests-oauthlib>=0.7.0->google-auth-oauthlib<1.1,>=0.5->tb-nightly~=2.14.0.a->tf-nightly) (3.2.2)\n",
            "2.14.0-dev20230520\n"
          ]
        }
      ],
      "source": [
        "import tensorflow as tf\n",
        "print(tf.__version__)\n",
        "!pip install pyunpack\n",
        "!pip install patool\n",
        "!pip install tf-nightly\n",
        "import tensorflow as tf\n",
        "print(tf.__version__)"
      ]
    },
    {
      "cell_type": "code",
      "execution_count": null,
      "metadata": {
        "colab": {
          "base_uri": "https://localhost:8080/"
        },
        "id": "7OXBe4MLpB4d",
        "outputId": "f0e7e0cb-5f79-4bfb-cfa2-03634cb048a9"
      },
      "outputs": [
        {
          "output_type": "stream",
          "name": "stdout",
          "text": [
            "Drive already mounted at /content/gdrive; to attempt to forcibly remount, call drive.mount(\"/content/gdrive\", force_remount=True).\n"
          ]
        }
      ],
      "source": [
        "#Mounting Google Drive\n",
        "from google.colab import drive\n",
        "drive.mount('/content/gdrive')\n",
        "from pyunpack import Archive\n",
        "import pathlib\n",
        "from PIL import Image\n",
        "from sklearn.metrics import confusion_matrix\n",
        "import itertools\n",
        "import matplotlib.pyplot as plt\n",
        "import tensorflow_datasets as tfds\n",
        "import numpy as np"
      ]
    },
    {
      "cell_type": "code",
      "execution_count": null,
      "metadata": {
        "id": "AWUKpFajIsoU"
      },
      "outputs": [],
      "source": [
        "# import os\n",
        "# import shutil\n",
        "\n",
        "# # Set the paths to the three folders\n",
        "# dataset_folders = ['/content/my_dataset/InitialV2', '/content/my_validationset2/ValidationSet', '/content/validationset_wastepictures/Validation_WastePicture']\n",
        "\n",
        "# # Create a new folder to store the merged files\n",
        "# merged_folder = '/content/collectedDataSet123'\n",
        "# if not os.path.exists(merged_folder):\n",
        "#     os.mkdir(merged_folder)\n",
        "\n",
        "# # Iterate over each subfolder in the dataset folders and move the images to the corresponding subfolder in the merged folder\n",
        "# for subfolder_name in os.listdir(dataset_folders[0]):\n",
        "#     subfolder_path = os.path.join(merged_folder, subfolder_name)\n",
        "#     os.makedirs(subfolder_path, exist_ok=True)  # Create the subfolder if it doesn't already exist\n",
        "#     for dataset_folder in dataset_folders:\n",
        "#         src_path = os.path.join(dataset_folder, subfolder_name)\n",
        "#         for file_name in os.listdir(src_path):\n",
        "#             src_file_path = os.path.join(src_path, file_name)\n",
        "#             dst_file_path = os.path.join(subfolder_path, file_name)\n",
        "#             shutil.copy(src_file_path, dst_file_path)  # Copy the file to the merged folder"
      ]
    },
    {
      "cell_type": "code",
      "execution_count": null,
      "metadata": {
        "id": "DEuCCER9ejz1",
        "colab": {
          "base_uri": "https://localhost:8080/"
        },
        "outputId": "977954cc-92f8-4757-b400-3706e10d2820"
      },
      "outputs": [
        {
          "output_type": "stream",
          "name": "stdout",
          "text": [
            "mkdir: cannot create directory ‘training_dataset’: File exists\n",
            "mkdir: cannot create directory ‘validationSet1’: File exists\n",
            "mkdir: cannot create directory ‘validationSet2’: File exists\n"
          ]
        }
      ],
      "source": [
        "!mkdir training_dataset\n",
        "Archive('/content/gdrive/MyDrive/InitialV2.rar').extractall('/content/training_dataset')\n",
        "\n",
        "!mkdir validationSet1\n",
        "Archive('/content/gdrive/MyDrive/ValidationSet.rar').extractall('/content/validationSet1')\n",
        "\n",
        "!mkdir validationSet2\n",
        "Archive('/content/gdrive/MyDrive/Validation_WastePicture.zip').extractall('/content/validationSet2')\n",
        "\n",
        "data_dir = pathlib.Path('/content/training_dataset/InitialV2')\n",
        "val_dir = pathlib.Path('/content/validationSet1/ValidationSet')\n",
        "val_dir2 = pathlib.Path('/content/validationSet2/Validation_WastePicture')"
      ]
    },
    {
      "cell_type": "markdown",
      "metadata": {
        "id": "1MbDOsXn02K6"
      },
      "source": [
        "\n",
        "\n",
        "# Training"
      ]
    },
    {
      "cell_type": "code",
      "execution_count": null,
      "metadata": {
        "colab": {
          "base_uri": "https://localhost:8080/"
        },
        "id": "-OznGh3G-gv1",
        "outputId": "cd7a1d37-cf4b-49bf-a8f7-0be10a806db2"
      },
      "outputs": [
        {
          "name": "stdout",
          "output_type": "stream",
          "text": [
            "Found 2945 files belonging to 6 classes.\n",
            "Using 2356 files for training.\n",
            "Using 589 files for validation.\n",
            "Downloading data from https://storage.googleapis.com/keras-applications/efficientnetb2_notop.h5\n",
            "31790344/31790344 [==============================] - 1s 0us/step\n",
            "Epoch 1/10\n",
            "74/74 [==============================] - 84s 845ms/step - loss: 0.9476 - accuracy: 0.6969 - val_loss: 0.5369 - val_accuracy: 0.8591\n",
            "Epoch 2/10\n",
            "74/74 [==============================] - 71s 901ms/step - loss: 0.4766 - accuracy: 0.8587 - val_loss: 0.4095 - val_accuracy: 0.8846\n",
            "Epoch 3/10\n",
            "74/74 [==============================] - 62s 813ms/step - loss: 0.3821 - accuracy: 0.8773 - val_loss: 0.3597 - val_accuracy: 0.8998\n",
            "Epoch 4/10\n",
            "74/74 [==============================] - 57s 734ms/step - loss: 0.3239 - accuracy: 0.9011 - val_loss: 0.3295 - val_accuracy: 0.9049\n",
            "Epoch 5/10\n",
            "74/74 [==============================] - 55s 718ms/step - loss: 0.2937 - accuracy: 0.9075 - val_loss: 0.3100 - val_accuracy: 0.9032\n",
            "Epoch 6/10\n",
            "74/74 [==============================] - 60s 790ms/step - loss: 0.2677 - accuracy: 0.9181 - val_loss: 0.3020 - val_accuracy: 0.9032\n",
            "Epoch 7/10\n",
            "74/74 [==============================] - 56s 736ms/step - loss: 0.2454 - accuracy: 0.9202 - val_loss: 0.2852 - val_accuracy: 0.9083\n",
            "Epoch 8/10\n",
            "74/74 [==============================] - 64s 840ms/step - loss: 0.2318 - accuracy: 0.9253 - val_loss: 0.2771 - val_accuracy: 0.9117\n",
            "Epoch 9/10\n",
            "74/74 [==============================] - 55s 719ms/step - loss: 0.2136 - accuracy: 0.9334 - val_loss: 0.2661 - val_accuracy: 0.9168\n",
            "Epoch 10/10\n",
            "74/74 [==============================] - 61s 802ms/step - loss: 0.1981 - accuracy: 0.9414 - val_loss: 0.2576 - val_accuracy: 0.9202\n",
            "Seed 1234551: Train accuracy = 0.941426157951355, Validation accuracy = 0.9202037453651428, Loss = 0.19809210300445557, Validation Loss = 0.25759223103523254\n"
          ]
        }
      ],
      "source": [
        "train_accs = []\n",
        "val_accs = []\n",
        "loss = []\n",
        "img_size = (260, 260)\n",
        "batch_size = 32\n",
        "seeds = [1234551]\n",
        "val_loss = []\n",
        "dir_paths = [data_dir, val_dir, val_dir2]\n",
        "for seed in seeds:\n",
        "  \n",
        "  train_ds, val_ds = tf.keras.preprocessing.image_dataset_from_directory(\n",
        "      directory=data_dir,\n",
        "      validation_split=0.2,\n",
        "      subset= 'both',\n",
        "      seed=seed,\n",
        "      image_size=img_size,\n",
        "      batch_size=batch_size)\n",
        "\n",
        "  data_augmentation = tf.keras.Sequential([\n",
        "      tf.keras.layers.experimental.preprocessing.RandomFlip('horizontal'),\n",
        "      tf.keras.layers.experimental.preprocessing.RandomRotation(0.1),\n",
        "      tf.keras.layers.experimental.preprocessing.RandomZoom(0.1),\n",
        "  ])\n",
        "\n",
        "  train_ds = train_ds.map(lambda x, y: (data_augmentation(x), y))\n",
        "  label_names = sorted(item.name for item in data_dir.glob('*/') if item.is_dir())\n",
        "  label_encoder = tf.keras.layers.experimental.preprocessing.StringLookup()\n",
        "  label_encoder.adapt(label_names)\n",
        "\n",
        "  # Map the labels to integers\n",
        "  train_labels = train_ds.map(lambda x, y: label_encoder(y))\n",
        "  val_labels = val_ds.map(lambda x, y: label_encoder(y))\n",
        "\n",
        "  num_classes = len(label_encoder.get_vocabulary())\n",
        "\n",
        "  base_model = tf.keras.applications.EfficientNetB2(include_top=False, weights='imagenet', input_shape=(260, 260, 3))\n",
        "  base_model.trainable = False\n",
        "  inputs = tf.keras.Input(shape=(260, 260, 3))\n",
        "  x = base_model(inputs, training=False)\n",
        "  x = tf.keras.layers.GlobalAveragePooling2D()(x)\\\n",
        "  \n",
        "  outputs = tf.keras.layers.Dense(num_classes, activation='softmax')(x)\n",
        "\n",
        "  model = tf.keras.Model(inputs, outputs)\n",
        "\n",
        "  model.compile(optimizer='adam',\n",
        "                loss='sparse_categorical_crossentropy',\n",
        "                metrics=['accuracy'])\n",
        "  history = model.fit(train_ds,\n",
        "                      validation_data=val_ds,\n",
        "                      epochs=10)\n",
        "  train_accs.append(history.history['accuracy'][-1])\n",
        "  val_accs.append(history.history['val_accuracy'][-1])\n",
        "  loss.append(history.history['loss'][-1])\n",
        "  val_loss.append(history.history['val_loss'][-1])\n",
        "for i in range(len(seeds)):\n",
        "    print(f'Seed {seeds[i]}: Train accuracy = {train_accs[i]}, Validation accuracy = {val_accs[i]}, Loss = {loss[i]}, Validation Loss = {val_loss[i]}')"
      ]
    },
    {
      "cell_type": "code",
      "execution_count": null,
      "metadata": {
        "colab": {
          "base_uri": "https://localhost:8080/",
          "height": 927
        },
        "id": "rsD_0ty5auP_",
        "outputId": "292d1235-aed4-41d4-8394-3d3a8527cef3"
      },
      "outputs": [
        {
          "data": {
            "image/png": "[encoded data removed]",
            "text/plain": [
              "<Figure size 640x480 with 1 Axes>"
            ]
          },
          "metadata": {},
          "output_type": "display_data"
        },
        {
          "data": {
            "image/png": "[encoded data removed]",
            "text/plain": [
              "<Figure size 640x480 with 1 Axes>"
            ]
          },
          "metadata": {},
          "output_type": "display_data"
        }
      ],
      "source": [
        "# Plot the training and validation loss\n",
        "plt.plot(history.history['loss'], label='Training Loss')\n",
        "plt.plot(history.history['val_loss'], label='Validation Loss')\n",
        "\n",
        "# Add labels and title\n",
        "plt.xlabel('Epoch')\n",
        "plt.ylabel('Loss')\n",
        "plt.title('Training and Validation Loss')\n",
        "\n",
        "# Show the legend\n",
        "plt.legend()\n",
        "\n",
        "# Display the plot\n",
        "plt.show()\n",
        "\n",
        "# Plot the training and validation accuracy\n",
        "plt.plot(history.history['accuracy'], label='Training Accuracy')\n",
        "plt.plot(history.history['val_accuracy'], label='Validation Accuracy')\n",
        "\n",
        "# Add labels and title\n",
        "plt.xlabel('Epoch')\n",
        "plt.ylabel('Accuracy')\n",
        "plt.title('Training and Validation Accuracy')\n",
        "\n",
        "# Show the legend\n",
        "plt.legend()\n",
        "\n",
        "# Display the plot\n",
        "plt.show()"
      ]
    },
    {
      "cell_type": "markdown",
      "metadata": {
        "id": "9MmUKyORLoDw"
      },
      "source": [
        "# Confusion Matrix"
      ]
    },
    {
      "cell_type": "code",
      "execution_count": null,
      "metadata": {
        "colab": {
          "base_uri": "https://localhost:8080/"
        },
        "id": "p-ZA5PGmBy2q",
        "outputId": "81a26119-916e-4da0-8ab7-f8e2f2cb5593"
      },
      "outputs": [
        {
          "output_type": "stream",
          "name": "stdout",
          "text": [
            "Found 120 files belonging to 6 classes.\n"
          ]
        }
      ],
      "source": [
        "test_val_ds = tf.keras.preprocessing.image_dataset_from_directory(\n",
        "      directory=val_dir,\n",
        "      validation_split=None,\n",
        "      subset= None,\n",
        "      seed=1234551,\n",
        "      image_size=img_size,\n",
        "      batch_size=1)"
      ]
    },
    {
      "cell_type": "code",
      "execution_count": null,
      "metadata": {
        "colab": {
          "background_save": true,
          "base_uri": "https://localhost:8080/",
          "height": 524
        },
        "id": "AjniuUKw8tvf",
        "outputId": "fe98cace-9ea2-435f-c6fe-1ed74a95ef40"
      },
      "outputs": [
        {
          "name": "stdout",
          "output_type": "stream",
          "text": [
            "19/19 [==============================] - 12s 616ms/step\n"
          ]
        },
        {
          "data": {
            "image/png": "[encoded data removed]",
            "text/plain": [
              "<Figure size 640x480 with 2 Axes>"
            ]
          },
          "metadata": {},
          "output_type": "display_data"
        }
      ],
      "source": [
        "#Confusion Matrix\n",
        "\n",
        "# Get the true labels and predicted labels\n",
        "y_true = np.concatenate([y for x, y in test_val_ds], axis=0)\n",
        "y_pred = np.argmax(model.predict(test_val_ds), axis=-1)\n",
        "\n",
        "# Compute the confusion matrix\n",
        "cm = confusion_matrix(y_true, y_pred)\n",
        "\n",
        "# Plot the confusion matrix\n",
        "plt.imshow(cm, interpolation='nearest', cmap=plt.cm.Blues)\n",
        "plt.title('Confusion Matrix')\n",
        "plt.colorbar()\n",
        "tick_marks = np.arange(len(test_val_ds.class_names))\n",
        "plt.xticks(tick_marks, test_val_ds.class_names, rotation=45)\n",
        "plt.yticks(tick_marks, test_val_ds.class_names)\n",
        "\n",
        "thresh = cm.max() / 2.\n",
        "for i, j in itertools.product(range(cm.shape[0]), range(cm.shape[1])):\n",
        "    plt.text(j, i, format(cm[i, j], 'd'),\n",
        "             horizontalalignment=\"center\",\n",
        "             color=\"white\" if cm[i, j] > thresh else \"black\")\n",
        "\n",
        "plt.tight_layout()\n",
        "plt.ylabel('True label')\n",
        "plt.xlabel('Predicted label')\n",
        "plt.show()"
      ]
    },
    {
      "cell_type": "markdown",
      "metadata": {
        "id": "INDWakm5E2Jd"
      },
      "source": [
        "# Plotting images that were misclassified"
      ]
    },
    {
      "cell_type": "code",
      "execution_count": null,
      "metadata": {
        "id": "u-o9x6fPxrHh"
      },
      "outputs": [],
      "source": [
        "def plot_misclassified_images(val_test_ds, y_true, y_pred, model):\n",
        "    for i, (image, label) in enumerate(val_test_ds.unbatch()):\n",
        "        if y_true[i] != y_pred[i]:\n",
        "            # Get the predicted class probabilities\n",
        "            probs = model.predict(np.expand_dims(image, axis=0))[0]\n",
        "            pred_class_prob = probs[y_pred[i]]\n",
        "            \n",
        "            # Plot the image and mislabeled class information\n",
        "            plt.figure(figsize=(4,4))\n",
        "            plt.imshow(image.numpy().astype(np.uint8))\n",
        "            plt.title(f'True label: {val_test_ds.class_names[y_true[i]]}, Predicted label: {val_test_ds.class_names[y_pred[i]]}, Confidence: {pred_class_prob:.2f}')\n",
        "            plt.axis('off')\n",
        "            plt.show()\n",
        "plot_misclassified_images(val_ds, y_true, y_pred, model)"
      ]
    },
    {
      "cell_type": "markdown",
      "source": [
        "# Merging datasets to check the threshold\n"
      ],
      "metadata": {
        "id": "yDEFDZSa0s5j"
      }
    },
    {
      "cell_type": "code",
      "source": [
        "import os\n",
        "import shutil\n",
        "\n",
        "# Set the paths to the three folders\n",
        "dataset_folders = ['/content/validationSet1/ValidationSet', '/content/validationSet2/Validation_WastePicture']\n",
        "\n",
        "# Create a new folder to store the merged files\n",
        "merged_folder = '/content/thresholdDataSet'\n",
        "if not os.path.exists(merged_folder):\n",
        "    os.mkdir(merged_folder)\n",
        "\n",
        "# Iterate over each subfolder in the dataset folders and move the images to the corresponding subfolder in the merged folder\n",
        "for subfolder_name in os.listdir(dataset_folders[0]):\n",
        "    subfolder_path = os.path.join(merged_folder, subfolder_name)\n",
        "    os.makedirs(subfolder_path, exist_ok=True)  # Create the subfolder if it doesn't already exist\n",
        "    for dataset_folder in dataset_folders:\n",
        "        src_path = os.path.join(dataset_folder, subfolder_name)\n",
        "        for file_name in os.listdir(src_path):\n",
        "            src_file_path = os.path.join(src_path, file_name)\n",
        "            dst_file_path = os.path.join(subfolder_path, file_name)\n",
        "            shutil.copy(src_file_path, dst_file_path)  # Copy the file to the merged folder"
      ],
      "metadata": {
        "id": "KOuIEwAd0vwB"
      },
      "execution_count": null,
      "outputs": []
    },
    {
      "cell_type": "code",
      "source": [
        "threshold_ds = tf.keras.preprocessing.image_dataset_from_directory(\n",
        "      directory=merged_folder,\n",
        "      validation_split=None,\n",
        "      subset= None,\n",
        "      seed=1234551,\n",
        "      image_size=img_size,\n",
        "      batch_size=16)"
      ],
      "metadata": {
        "colab": {
          "base_uri": "https://localhost:8080/"
        },
        "id": "R9HC0GV709zV",
        "outputId": "c991891d-4350-46fc-87d4-a506a5b21ee2"
      },
      "execution_count": null,
      "outputs": [
        {
          "output_type": "stream",
          "name": "stdout",
          "text": [
            "Found 1139 files belonging to 6 classes.\n"
          ]
        }
      ]
    },
    {
      "cell_type": "code",
      "source": [
        "x_test = []\n",
        "y_test = []\n",
        "for images, labels in threshold_ds:\n",
        "    x_test.append(images)\n",
        "    y_test.append(labels)\n",
        "\n",
        "x_test = tf.concat(x_test, axis=0)\n",
        "y_test = tf.concat(y_test, axis=0)"
      ],
      "metadata": {
        "id": "mlGyDSGV2QaR"
      },
      "execution_count": null,
      "outputs": []
    },
    {
      "cell_type": "code",
      "source": [
        "threshold_model = tf.keras.models.load_model('threshold_model.h5')"
      ],
      "metadata": {
        "id": "KzlKKJ6h17B-"
      },
      "execution_count": null,
      "outputs": []
    },
    {
      "cell_type": "markdown",
      "metadata": {
        "id": "IW48RGv3E-80"
      },
      "source": [
        "# Looking at the threshold"
      ]
    },
    {
      "cell_type": "code",
      "execution_count": null,
      "metadata": {
        "id": "8aJhFM9nSwnZ"
      },
      "outputs": [],
      "source": [
        "def accuracy_by_treshold(model, x, labels, threshold):\n",
        "  probs=model(x).numpy()\n",
        "  above_threshold = np.max(probs,axis=1)>threshold\n",
        "  correct = np.argmax(probs, axis=1) == np.squeeze(labels)\n",
        "  return threshold, 100*np.sum(np.logical_and(above_threshold, correct))/np.sum(above_threshold), 100*np.sum(above_threshold)/x.shape[0]\n",
        "\n",
        "def plot_accuracy_by_treshold(model, x, labels):\n",
        "  values = np.array([accuracy_by_treshold(model, x, labels, threshold) for threshold in np.arange(0.0,1,0.01)])\n",
        "  fig, ax1 = plt.subplots()\n",
        "  ax2 = ax1.twinx()\n",
        "  ax1.plot(values[:,0],values[:,1], 'g-')\n",
        "  ax2.plot(values[:,0],values[:,2], 'b-')\n",
        "\n",
        "  ax1.set_xlabel('Decision Threshold')\n",
        "  ax1.set_ylabel('Accuracy', color='g')\n",
        "  ax2.set_ylabel('Coverage', color='b')\n",
        "\n",
        "  plt.show()\n",
        "\n",
        "  return np.mean(values[:,1]), np.mean(values[:,2]) "
      ]
    },
    {
      "cell_type": "code",
      "source": [
        "# MNIST:  Plot Accuracy / Coverage evolution for different thresholds\n",
        "area_acc, area_coverage = plot_accuracy_by_treshold(threshold_model, x_test, y_test)\n",
        "print('Area under Accuracy on MNIST test set: ',\n",
        "      str(area_acc))\n",
        "print('Area under Coverage on MNIST test set: ',\n",
        "      str(area_coverage))"
      ],
      "metadata": {
        "colab": {
          "base_uri": "https://localhost:8080/",
          "height": 541
        },
        "id": "zCjBGSuyyzE5",
        "outputId": "78c09dd4-0c46-4b51-a188-1d0836067232"
      },
      "execution_count": null,
      "outputs": [
        {
          "output_type": "error",
          "ename": "ResourceExhaustedError",
          "evalue": "ignored",
          "traceback": [
            "\u001b[0;31m---------------------------------------------------------------------------\u001b[0m",
            "\u001b[0;31mResourceExhaustedError\u001b[0m                    Traceback (most recent call last)",
            "\u001b[0;32m<ipython-input-11-f8e16ad64417>\u001b[0m in \u001b[0;36m<cell line: 2>\u001b[0;34m()\u001b[0m\n\u001b[1;32m      1\u001b[0m \u001b[0;31m# MNIST:  Plot Accuracy / Coverage evolution for different thresholds\u001b[0m\u001b[0;34m\u001b[0m\u001b[0;34m\u001b[0m\u001b[0m\n\u001b[0;32m----> 2\u001b[0;31m \u001b[0marea_acc\u001b[0m\u001b[0;34m,\u001b[0m \u001b[0marea_coverage\u001b[0m \u001b[0;34m=\u001b[0m \u001b[0mplot_accuracy_by_treshold\u001b[0m\u001b[0;34m(\u001b[0m\u001b[0mthreshold_model\u001b[0m\u001b[0;34m,\u001b[0m \u001b[0mx_test\u001b[0m\u001b[0;34m,\u001b[0m \u001b[0my_test\u001b[0m\u001b[0;34m)\u001b[0m\u001b[0;34m\u001b[0m\u001b[0;34m\u001b[0m\u001b[0m\n\u001b[0m\u001b[1;32m      3\u001b[0m print('Area under Accuracy on MNIST test set: ',\n\u001b[1;32m      4\u001b[0m       str(area_acc))\n\u001b[1;32m      5\u001b[0m print('Area under Coverage on MNIST test set: ',\n",
            "\u001b[0;32m<ipython-input-10-eec0910e6653>\u001b[0m in \u001b[0;36mplot_accuracy_by_treshold\u001b[0;34m(model, x, labels)\u001b[0m\n\u001b[1;32m      6\u001b[0m \u001b[0;34m\u001b[0m\u001b[0m\n\u001b[1;32m      7\u001b[0m \u001b[0;32mdef\u001b[0m \u001b[0mplot_accuracy_by_treshold\u001b[0m\u001b[0;34m(\u001b[0m\u001b[0mmodel\u001b[0m\u001b[0;34m,\u001b[0m \u001b[0mx\u001b[0m\u001b[0;34m,\u001b[0m \u001b[0mlabels\u001b[0m\u001b[0;34m)\u001b[0m\u001b[0;34m:\u001b[0m\u001b[0;34m\u001b[0m\u001b[0;34m\u001b[0m\u001b[0m\n\u001b[0;32m----> 8\u001b[0;31m   \u001b[0mvalues\u001b[0m \u001b[0;34m=\u001b[0m \u001b[0mnp\u001b[0m\u001b[0;34m.\u001b[0m\u001b[0marray\u001b[0m\u001b[0;34m(\u001b[0m\u001b[0;34m[\u001b[0m\u001b[0maccuracy_by_treshold\u001b[0m\u001b[0;34m(\u001b[0m\u001b[0mmodel\u001b[0m\u001b[0;34m,\u001b[0m \u001b[0mx\u001b[0m\u001b[0;34m,\u001b[0m \u001b[0mlabels\u001b[0m\u001b[0;34m,\u001b[0m \u001b[0mthreshold\u001b[0m\u001b[0;34m)\u001b[0m \u001b[0;32mfor\u001b[0m \u001b[0mthreshold\u001b[0m \u001b[0;32min\u001b[0m \u001b[0mnp\u001b[0m\u001b[0;34m.\u001b[0m\u001b[0marange\u001b[0m\u001b[0;34m(\u001b[0m\u001b[0;36m0.0\u001b[0m\u001b[0;34m,\u001b[0m\u001b[0;36m1\u001b[0m\u001b[0;34m,\u001b[0m\u001b[0;36m0.01\u001b[0m\u001b[0;34m)\u001b[0m\u001b[0;34m]\u001b[0m\u001b[0;34m)\u001b[0m\u001b[0;34m\u001b[0m\u001b[0;34m\u001b[0m\u001b[0m\n\u001b[0m\u001b[1;32m      9\u001b[0m   \u001b[0mfig\u001b[0m\u001b[0;34m,\u001b[0m \u001b[0max1\u001b[0m \u001b[0;34m=\u001b[0m \u001b[0mplt\u001b[0m\u001b[0;34m.\u001b[0m\u001b[0msubplots\u001b[0m\u001b[0;34m(\u001b[0m\u001b[0;34m)\u001b[0m\u001b[0;34m\u001b[0m\u001b[0;34m\u001b[0m\u001b[0m\n\u001b[1;32m     10\u001b[0m   \u001b[0max2\u001b[0m \u001b[0;34m=\u001b[0m \u001b[0max1\u001b[0m\u001b[0;34m.\u001b[0m\u001b[0mtwinx\u001b[0m\u001b[0;34m(\u001b[0m\u001b[0;34m)\u001b[0m\u001b[0;34m\u001b[0m\u001b[0;34m\u001b[0m\u001b[0m\n",
            "\u001b[0;32m<ipython-input-10-eec0910e6653>\u001b[0m in \u001b[0;36m<listcomp>\u001b[0;34m(.0)\u001b[0m\n\u001b[1;32m      6\u001b[0m \u001b[0;34m\u001b[0m\u001b[0m\n\u001b[1;32m      7\u001b[0m \u001b[0;32mdef\u001b[0m \u001b[0mplot_accuracy_by_treshold\u001b[0m\u001b[0;34m(\u001b[0m\u001b[0mmodel\u001b[0m\u001b[0;34m,\u001b[0m \u001b[0mx\u001b[0m\u001b[0;34m,\u001b[0m \u001b[0mlabels\u001b[0m\u001b[0;34m)\u001b[0m\u001b[0;34m:\u001b[0m\u001b[0;34m\u001b[0m\u001b[0;34m\u001b[0m\u001b[0m\n\u001b[0;32m----> 8\u001b[0;31m   \u001b[0mvalues\u001b[0m \u001b[0;34m=\u001b[0m \u001b[0mnp\u001b[0m\u001b[0;34m.\u001b[0m\u001b[0marray\u001b[0m\u001b[0;34m(\u001b[0m\u001b[0;34m[\u001b[0m\u001b[0maccuracy_by_treshold\u001b[0m\u001b[0;34m(\u001b[0m\u001b[0mmodel\u001b[0m\u001b[0;34m,\u001b[0m \u001b[0mx\u001b[0m\u001b[0;34m,\u001b[0m \u001b[0mlabels\u001b[0m\u001b[0;34m,\u001b[0m \u001b[0mthreshold\u001b[0m\u001b[0;34m)\u001b[0m \u001b[0;32mfor\u001b[0m \u001b[0mthreshold\u001b[0m \u001b[0;32min\u001b[0m \u001b[0mnp\u001b[0m\u001b[0;34m.\u001b[0m\u001b[0marange\u001b[0m\u001b[0;34m(\u001b[0m\u001b[0;36m0.0\u001b[0m\u001b[0;34m,\u001b[0m\u001b[0;36m1\u001b[0m\u001b[0;34m,\u001b[0m\u001b[0;36m0.01\u001b[0m\u001b[0;34m)\u001b[0m\u001b[0;34m]\u001b[0m\u001b[0;34m)\u001b[0m\u001b[0;34m\u001b[0m\u001b[0;34m\u001b[0m\u001b[0m\n\u001b[0m\u001b[1;32m      9\u001b[0m   \u001b[0mfig\u001b[0m\u001b[0;34m,\u001b[0m \u001b[0max1\u001b[0m \u001b[0;34m=\u001b[0m \u001b[0mplt\u001b[0m\u001b[0;34m.\u001b[0m\u001b[0msubplots\u001b[0m\u001b[0;34m(\u001b[0m\u001b[0;34m)\u001b[0m\u001b[0;34m\u001b[0m\u001b[0;34m\u001b[0m\u001b[0m\n\u001b[1;32m     10\u001b[0m   \u001b[0max2\u001b[0m \u001b[0;34m=\u001b[0m \u001b[0max1\u001b[0m\u001b[0;34m.\u001b[0m\u001b[0mtwinx\u001b[0m\u001b[0;34m(\u001b[0m\u001b[0;34m)\u001b[0m\u001b[0;34m\u001b[0m\u001b[0;34m\u001b[0m\u001b[0m\n",
            "\u001b[0;32m<ipython-input-10-eec0910e6653>\u001b[0m in \u001b[0;36maccuracy_by_treshold\u001b[0;34m(model, x, labels, threshold)\u001b[0m\n\u001b[1;32m      1\u001b[0m \u001b[0;32mdef\u001b[0m \u001b[0maccuracy_by_treshold\u001b[0m\u001b[0;34m(\u001b[0m\u001b[0mmodel\u001b[0m\u001b[0;34m,\u001b[0m \u001b[0mx\u001b[0m\u001b[0;34m,\u001b[0m \u001b[0mlabels\u001b[0m\u001b[0;34m,\u001b[0m \u001b[0mthreshold\u001b[0m\u001b[0;34m)\u001b[0m\u001b[0;34m:\u001b[0m\u001b[0;34m\u001b[0m\u001b[0;34m\u001b[0m\u001b[0m\n\u001b[0;32m----> 2\u001b[0;31m   \u001b[0mprobs\u001b[0m\u001b[0;34m=\u001b[0m\u001b[0mmodel\u001b[0m\u001b[0;34m(\u001b[0m\u001b[0mx\u001b[0m\u001b[0;34m)\u001b[0m\u001b[0;34m.\u001b[0m\u001b[0mnumpy\u001b[0m\u001b[0;34m(\u001b[0m\u001b[0;34m)\u001b[0m\u001b[0;34m\u001b[0m\u001b[0;34m\u001b[0m\u001b[0m\n\u001b[0m\u001b[1;32m      3\u001b[0m   \u001b[0mabove_threshold\u001b[0m \u001b[0;34m=\u001b[0m \u001b[0mnp\u001b[0m\u001b[0;34m.\u001b[0m\u001b[0mmax\u001b[0m\u001b[0;34m(\u001b[0m\u001b[0mprobs\u001b[0m\u001b[0;34m,\u001b[0m\u001b[0maxis\u001b[0m\u001b[0;34m=\u001b[0m\u001b[0;36m1\u001b[0m\u001b[0;34m)\u001b[0m\u001b[0;34m>\u001b[0m\u001b[0mthreshold\u001b[0m\u001b[0;34m\u001b[0m\u001b[0;34m\u001b[0m\u001b[0m\n\u001b[1;32m      4\u001b[0m   \u001b[0mcorrect\u001b[0m \u001b[0;34m=\u001b[0m \u001b[0mnp\u001b[0m\u001b[0;34m.\u001b[0m\u001b[0margmax\u001b[0m\u001b[0;34m(\u001b[0m\u001b[0mprobs\u001b[0m\u001b[0;34m,\u001b[0m \u001b[0maxis\u001b[0m\u001b[0;34m=\u001b[0m\u001b[0;36m1\u001b[0m\u001b[0;34m)\u001b[0m \u001b[0;34m==\u001b[0m \u001b[0mnp\u001b[0m\u001b[0;34m.\u001b[0m\u001b[0msqueeze\u001b[0m\u001b[0;34m(\u001b[0m\u001b[0mlabels\u001b[0m\u001b[0;34m)\u001b[0m\u001b[0;34m\u001b[0m\u001b[0;34m\u001b[0m\u001b[0m\n\u001b[1;32m      5\u001b[0m   \u001b[0;32mreturn\u001b[0m \u001b[0mthreshold\u001b[0m\u001b[0;34m,\u001b[0m \u001b[0;36m100\u001b[0m\u001b[0;34m*\u001b[0m\u001b[0mnp\u001b[0m\u001b[0;34m.\u001b[0m\u001b[0msum\u001b[0m\u001b[0;34m(\u001b[0m\u001b[0mnp\u001b[0m\u001b[0;34m.\u001b[0m\u001b[0mlogical_and\u001b[0m\u001b[0;34m(\u001b[0m\u001b[0mabove_threshold\u001b[0m\u001b[0;34m,\u001b[0m \u001b[0mcorrect\u001b[0m\u001b[0;34m)\u001b[0m\u001b[0;34m)\u001b[0m\u001b[0;34m/\u001b[0m\u001b[0mnp\u001b[0m\u001b[0;34m.\u001b[0m\u001b[0msum\u001b[0m\u001b[0;34m(\u001b[0m\u001b[0mabove_threshold\u001b[0m\u001b[0;34m)\u001b[0m\u001b[0;34m,\u001b[0m \u001b[0;36m100\u001b[0m\u001b[0;34m*\u001b[0m\u001b[0mnp\u001b[0m\u001b[0;34m.\u001b[0m\u001b[0msum\u001b[0m\u001b[0;34m(\u001b[0m\u001b[0mabove_threshold\u001b[0m\u001b[0;34m)\u001b[0m\u001b[0;34m/\u001b[0m\u001b[0mx\u001b[0m\u001b[0;34m.\u001b[0m\u001b[0mshape\u001b[0m\u001b[0;34m[\u001b[0m\u001b[0;36m0\u001b[0m\u001b[0;34m]\u001b[0m\u001b[0;34m\u001b[0m\u001b[0;34m\u001b[0m\u001b[0m\n",
            "\u001b[0;32m/usr/local/lib/python3.10/dist-packages/keras/src/utils/traceback_utils.py\u001b[0m in \u001b[0;36merror_handler\u001b[0;34m(*args, **kwargs)\u001b[0m\n\u001b[1;32m     68\u001b[0m             \u001b[0;31m# To get the full stack trace, call:\u001b[0m\u001b[0;34m\u001b[0m\u001b[0;34m\u001b[0m\u001b[0m\n\u001b[1;32m     69\u001b[0m             \u001b[0;31m# `tf.debugging.disable_traceback_filtering()`\u001b[0m\u001b[0;34m\u001b[0m\u001b[0;34m\u001b[0m\u001b[0m\n\u001b[0;32m---> 70\u001b[0;31m             \u001b[0;32mraise\u001b[0m \u001b[0me\u001b[0m\u001b[0;34m.\u001b[0m\u001b[0mwith_traceback\u001b[0m\u001b[0;34m(\u001b[0m\u001b[0mfiltered_tb\u001b[0m\u001b[0;34m)\u001b[0m \u001b[0;32mfrom\u001b[0m \u001b[0;32mNone\u001b[0m\u001b[0;34m\u001b[0m\u001b[0;34m\u001b[0m\u001b[0m\n\u001b[0m\u001b[1;32m     71\u001b[0m         \u001b[0;32mfinally\u001b[0m\u001b[0;34m:\u001b[0m\u001b[0;34m\u001b[0m\u001b[0;34m\u001b[0m\u001b[0m\n\u001b[1;32m     72\u001b[0m             \u001b[0;32mdel\u001b[0m \u001b[0mfiltered_tb\u001b[0m\u001b[0;34m\u001b[0m\u001b[0;34m\u001b[0m\u001b[0m\n",
            "\u001b[0;32m/usr/local/lib/python3.10/dist-packages/tensorflow/python/framework/ops.py\u001b[0m in \u001b[0;36mraise_from_not_ok_status\u001b[0;34m(e, name)\u001b[0m\n\u001b[1;32m   6583\u001b[0m \u001b[0;32mdef\u001b[0m \u001b[0mraise_from_not_ok_status\u001b[0m\u001b[0;34m(\u001b[0m\u001b[0me\u001b[0m\u001b[0;34m,\u001b[0m \u001b[0mname\u001b[0m\u001b[0;34m)\u001b[0m\u001b[0;34m:\u001b[0m\u001b[0;34m\u001b[0m\u001b[0;34m\u001b[0m\u001b[0m\n\u001b[1;32m   6584\u001b[0m   \u001b[0me\u001b[0m\u001b[0;34m.\u001b[0m\u001b[0mmessage\u001b[0m \u001b[0;34m+=\u001b[0m \u001b[0;34m(\u001b[0m\u001b[0;34m\" name: \"\u001b[0m \u001b[0;34m+\u001b[0m \u001b[0mstr\u001b[0m\u001b[0;34m(\u001b[0m\u001b[0mname\u001b[0m \u001b[0;32mif\u001b[0m \u001b[0mname\u001b[0m \u001b[0;32mis\u001b[0m \u001b[0;32mnot\u001b[0m \u001b[0;32mNone\u001b[0m \u001b[0;32melse\u001b[0m \u001b[0;34m\"\"\u001b[0m\u001b[0;34m)\u001b[0m\u001b[0;34m)\u001b[0m\u001b[0;34m\u001b[0m\u001b[0;34m\u001b[0m\u001b[0m\n\u001b[0;32m-> 6585\u001b[0;31m   \u001b[0;32mraise\u001b[0m \u001b[0mcore\u001b[0m\u001b[0;34m.\u001b[0m\u001b[0m_status_to_exception\u001b[0m\u001b[0;34m(\u001b[0m\u001b[0me\u001b[0m\u001b[0;34m)\u001b[0m \u001b[0;32mfrom\u001b[0m \u001b[0;32mNone\u001b[0m  \u001b[0;31m# pylint: disable=protected-access\u001b[0m\u001b[0;34m\u001b[0m\u001b[0;34m\u001b[0m\u001b[0m\n\u001b[0m\u001b[1;32m   6586\u001b[0m \u001b[0;34m\u001b[0m\u001b[0m\n\u001b[1;32m   6587\u001b[0m \u001b[0;34m\u001b[0m\u001b[0m\n",
            "\u001b[0;31mResourceExhaustedError\u001b[0m: Exception encountered when calling layer 'block2a_expand_bn' (type BatchNormalization).\n\n{{function_node __wrapped__FusedBatchNormV3_device_/job:localhost/replica:0/task:0/device:GPU:0}} OOM when allocating tensor with shape[1139,130,130,96] and type float on /job:localhost/replica:0/task:0/device:GPU:0 by allocator GPU_0_bfc [Op:FusedBatchNormV3] name: \n\nCall arguments received by layer 'block2a_expand_bn' (type BatchNormalization):\n  • inputs=tf.Tensor(shape=(1139, 130, 130, 96), dtype=float32)\n  • training=False\n  • mask=None"
          ]
        }
      ]
    },
    {
      "cell_type": "markdown",
      "metadata": {
        "id": "u-Q7nCfLFkl9"
      },
      "source": [
        "# Converting the keras model to a tflite one."
      ]
    },
    {
      "cell_type": "code",
      "execution_count": null,
      "metadata": {
        "id": "5yyewlvNldsJ",
        "colab": {
          "base_uri": "https://localhost:8080/",
          "height": 244
        },
        "outputId": "1e564a0e-d28a-4d62-fe73-e4f53424d2b7"
      },
      "outputs": [
        {
          "output_type": "error",
          "ename": "NameError",
          "evalue": "ignored",
          "traceback": [
            "\u001b[0;31m---------------------------------------------------------------------------\u001b[0m",
            "\u001b[0;31mNameError\u001b[0m                                 Traceback (most recent call last)",
            "\u001b[0;32m<ipython-input-22-4b5adcb38eb4>\u001b[0m in \u001b[0;36m<cell line: 3>\u001b[0;34m()\u001b[0m\n\u001b[1;32m      1\u001b[0m \u001b[0mtflite_output_path\u001b[0m \u001b[0;34m=\u001b[0m \u001b[0;34m'/content/converted_model.tflite'\u001b[0m\u001b[0;34m\u001b[0m\u001b[0;34m\u001b[0m\u001b[0m\n\u001b[1;32m      2\u001b[0m \u001b[0;34m\u001b[0m\u001b[0m\n\u001b[0;32m----> 3\u001b[0;31m \u001b[0mconverter\u001b[0m \u001b[0;34m=\u001b[0m \u001b[0mtf\u001b[0m\u001b[0;34m.\u001b[0m\u001b[0mlite\u001b[0m\u001b[0;34m.\u001b[0m\u001b[0mTFLiteConverter\u001b[0m\u001b[0;34m.\u001b[0m\u001b[0mfrom_saved_model\u001b[0m\u001b[0;34m(\u001b[0m\u001b[0msaved_model_path\u001b[0m\u001b[0;34m)\u001b[0m\u001b[0;34m\u001b[0m\u001b[0;34m\u001b[0m\u001b[0m\n\u001b[0m\u001b[1;32m      4\u001b[0m \u001b[0mtflite_model\u001b[0m \u001b[0;34m=\u001b[0m \u001b[0mconverter\u001b[0m\u001b[0;34m.\u001b[0m\u001b[0mconvert\u001b[0m\u001b[0;34m(\u001b[0m\u001b[0;34m)\u001b[0m\u001b[0;34m\u001b[0m\u001b[0;34m\u001b[0m\u001b[0m\n\u001b[1;32m      5\u001b[0m \u001b[0;34m\u001b[0m\u001b[0m\n",
            "\u001b[0;31mNameError\u001b[0m: name 'saved_model_path' is not defined"
          ]
        }
      ],
      "source": [
        "tflite_output_path = '/content/converted_model.tflite'\n",
        "\n",
        "converter = tf.lite.TFLiteConverter.from_saved_model(saved_model_path)\n",
        "tflite_model = converter.convert()\n",
        "\n",
        "with open(tflite_output_path, 'wb') as f:\n",
        "    f.write(tflite_model)"
      ]
    },
    {
      "cell_type": "markdown",
      "metadata": {
        "id": "je64FJGhWhOM"
      },
      "source": [
        "# Testing tflite model"
      ]
    },
    {
      "cell_type": "code",
      "execution_count": null,
      "metadata": {
        "id": "HFfvrXxqWmrE"
      },
      "outputs": [],
      "source": [
        "interpreter = tf.lite.Interpreter(model_path=\"converted_model.tflite\")\n",
        "interpreter.allocate_tensors()\n",
        "\n",
        "input_details = interpreter.get_input_details()\n",
        "output_details = interpreter.get_output_details()"
      ]
    },
    {
      "cell_type": "code",
      "execution_count": null,
      "metadata": {
        "id": "cCwQApB4WpHh"
      },
      "outputs": [],
      "source": [
        "from PIL import Image\n",
        "\n",
        "image = tf.keras.preprocessing.image.load_img('/content/IMG_0947.jpg', target_size=(260, 260))\n",
        "\n",
        "# Apply the data augmentation to the input image\n",
        "# image = data_augmentation(np.array(image))\n",
        "\n",
        "\n",
        "image = np.array(image, dtype=np.float32)\n",
        "\n",
        "\n",
        "image = tf.keras.applications.efficientnet.preprocess_input(image)\n",
        "image = np.expand_dims(image, 0)"
      ]
    },
    {
      "cell_type": "code",
      "execution_count": null,
      "metadata": {
        "id": "oha8VjdpWquq"
      },
      "outputs": [],
      "source": [
        "interpreter.set_tensor(input_details[0]['index'], image)\n",
        "interpreter.invoke()\n",
        "output_data = interpreter.get_tensor(output_details[0]['index'])\n",
        "predicted_labels = np.argmax(output_data, axis=1)[0]"
      ]
    },
    {
      "cell_type": "code",
      "execution_count": null,
      "metadata": {
        "id": "aHWNhqpiWv4A"
      },
      "outputs": [],
      "source": [
        "# Display the image and the predicted labels\n",
        "plt.imshow(image[0])\n",
        "plt.title(\"Predicted label: {}\".format(class_names[predicted_labels]))\n",
        "plt.show()\n",
        "\n",
        "# Print the predicted probabilities for all labels\n",
        "for i in range(len(class_names)):\n",
        "    print(\"{}: {:.2f}%\".format(class_names[i], output_data[0][i] * 100))"
      ]
    },
    {
      "cell_type": "markdown",
      "metadata": {
        "id": "EsGk_a7Fpph3"
      },
      "source": [
        "# Validation with different datasets"
      ]
    },
    {
      "cell_type": "code",
      "execution_count": null,
      "metadata": {
        "id": "DMqhFnpJrjFi"
      },
      "outputs": [],
      "source": [
        "val_test_ds = tf.keras.preprocessing.image_dataset_from_directory(\n",
        "      val_dir,\n",
        "      image_size=img_size,\n",
        "      validation_split=0,\n",
        "      batch_size=batch_size,\n",
        "      shuffle=False)"
      ]
    },
    {
      "cell_type": "markdown",
      "metadata": {
        "id": "qkETE34YGZp_"
      },
      "source": [
        "Confusion Matrix"
      ]
    },
    {
      "cell_type": "code",
      "execution_count": null,
      "metadata": {
        "id": "9Uj4-AdfwIp3"
      },
      "outputs": [],
      "source": [
        "\n",
        "# Get the true labels and predicted labels\n",
        "y_test_true = np.concatenate([y for x, y in val_test_ds], axis=0)\n",
        "y_test_pred = np.argmax(model.predict(val_test_ds), axis=-1)\n",
        "\n",
        "# Compute the confusion matrix\n",
        "cm = confusion_matrix(y_test_true, y_test_pred)\n",
        "\n",
        "# Plot the confusion matrix\n",
        "plt.imshow(cm, interpolation='nearest', cmap=plt.cm.Blues)\n",
        "plt.title('Confusion Matrix')\n",
        "plt.colorbar()\n",
        "tick_marks = np.arange(len(val_test_ds.class_names))\n",
        "plt.xticks(tick_marks, val_test_ds.class_names, rotation=45)\n",
        "plt.yticks(tick_marks, val_test_ds.class_names)\n",
        "\n",
        "thresh = cm.max() / 2.\n",
        "for i, j in itertools.product(range(cm.shape[0]), range(cm.shape[1])):\n",
        "    plt.text(j, i, format(cm[i, j], 'd'),\n",
        "             horizontalalignment=\"center\",\n",
        "             color=\"white\" if cm[i, j] > thresh else \"black\")\n",
        "\n",
        "plt.tight_layout()\n",
        "plt.ylabel('True label')\n",
        "plt.xlabel('Predicted label')\n",
        "plt.show()"
      ]
    },
    {
      "cell_type": "code",
      "execution_count": null,
      "metadata": {
        "id": "L3Ig7U6qAqak"
      },
      "outputs": [],
      "source": [
        "plot_threshold(val_ds, new_model)"
      ]
    },
    {
      "cell_type": "code",
      "execution_count": null,
      "metadata": {
        "id": "Bv0k7bzCxBxg"
      },
      "outputs": [],
      "source": [
        "plot_misclassified_images(val_test_ds, y_test_true, y_test_pred, new_model)"
      ]
    },
    {
      "cell_type": "markdown",
      "metadata": {
        "id": "vg3KBv0LCMT4"
      },
      "source": [
        "Ensembling"
      ]
    },
    {
      "cell_type": "code",
      "execution_count": null,
      "metadata": {
        "id": "4NBxzl4YCN7x"
      },
      "outputs": [],
      "source": [
        "# model1 = tf.keras.models.load_model('model2.h5')\n",
        "# model2 = tf.keras.models.load_model('model4.h5')\n",
        "# model3 = tf.keras.models.load_model('model5.h5')"
      ]
    },
    {
      "cell_type": "code",
      "execution_count": null,
      "metadata": {
        "id": "t7ZQW4HGCcqC"
      },
      "outputs": [],
      "source": [
        "# model1._name = 'epoch30model'\n",
        "# model2._name = 'epoch10model'\n",
        "# model3._name = 'epoch100model'\n",
        "# models = [model1, model2, model3]\n",
        "# model_input = tf.keras.Input(shape=(260, 260, 3))\n",
        "# model_outputs = [model(model_input) for model in models]\n",
        "# ensemble_output = tf.keras.layers.Average()(model_outputs)\n",
        "# ensemble_model = tf.keras.Model(inputs=model_input, outputs=ensemble_output)"
      ]
    },
    {
      "cell_type": "code",
      "execution_count": null,
      "metadata": {
        "id": "_gmwrQfgn_0Y"
      },
      "outputs": [],
      "source": [
        "# ensemble_model.compile(optimizer='adam',\n",
        "#                 loss='sparse_categorical_crossentropy',\n",
        "#                 metrics=['accuracy'])"
      ]
    },
    {
      "cell_type": "code",
      "execution_count": null,
      "metadata": {
        "id": "171ZCFUxmyVX"
      },
      "outputs": [],
      "source": [
        "# #Confusion Matrix\n",
        "# import numpy as np\n",
        "# import tensorflow as tf\n",
        "# from sklearn.metrics import confusion_matrix\n",
        "# import itertools\n",
        "\n",
        "# # Get the true labels and predicted labels\n",
        "# y_test_true = np.concatenate([y for x, y in val_test_ds], axis=0)\n",
        "# y_test_pred = np.argmax(ensemble_model.predict(val_test_ds), axis=-1)\n",
        "\n",
        "# # Compute the confusion matrix\n",
        "# cm = confusion_matrix(y_test_true, y_test_pred)\n",
        "\n",
        "# # Plot the confusion matrix\n",
        "# plt.imshow(cm, interpolation='nearest', cmap=plt.cm.Blues)\n",
        "# plt.title('Confusion Matrix')\n",
        "# plt.colorbar()\n",
        "# tick_marks = np.arange(len(val_test_ds.class_names))\n",
        "# plt.xticks(tick_marks, val_test_ds.class_names, rotation=45)\n",
        "# plt.yticks(tick_marks, val_test_ds.class_names)\n",
        "\n",
        "# thresh = cm.max() / 2.\n",
        "# for i, j in itertools.product(range(cm.shape[0]), range(cm.shape[1])):\n",
        "#     plt.text(j, i, format(cm[i, j], 'd'),\n",
        "#              horizontalalignment=\"center\",\n",
        "#              color=\"white\" if cm[i, j] > thresh else \"black\")\n",
        "\n",
        "# plt.tight_layout()\n",
        "# plt.ylabel('True label')\n",
        "# plt.xlabel('Predicted label')\n",
        "# plt.show()"
      ]
    },
    {
      "cell_type": "code",
      "execution_count": null,
      "metadata": {
        "id": "gMOelpVCn5p-"
      },
      "outputs": [],
      "source": [
        "# # create a list to store predictions from individual models\n",
        "# ensemble_predictions = []\n",
        "\n",
        "# # generate predictions from each individual model\n",
        "# for model in models:\n",
        "#     predictions = model.predict(val_test_ds)\n",
        "#     ensemble_predictions.append(predictions)\n",
        "\n",
        "# # average the predictions from individual models to get the final ensemble predictions\n",
        "# ensemble_predictions = np.average(ensemble_predictions, axis=0)\n",
        "\n",
        "# # evaluate the ensemble model on the validation data\n",
        "# ensemble_metrics = ensemble_model.evaluate(val_test_ds, verbose=2)\n"
      ]
    },
    {
      "cell_type": "code",
      "execution_count": null,
      "metadata": {
        "id": "UxAr0sjTqRto"
      },
      "outputs": [],
      "source": [
        "# print(val_test_ds)"
      ]
    },
    {
      "cell_type": "code",
      "execution_count": null,
      "metadata": {
        "id": "hBPIl7hBqI7E"
      },
      "outputs": [],
      "source": [
        "# print(f'Ensemble model validation loss and accuracy: {ensemble_metrics}')"
      ]
    }
  ],
  "metadata": {
    "accelerator": "GPU",
    "colab": {
      "provenance": [],
      "include_colab_link": true
    },
    "gpuClass": "standard",
    "kernelspec": {
      "display_name": "Python 3",
      "name": "python3"
    },
    "language_info": {
      "name": "python"
    }
  },
  "nbformat": 4,
  "nbformat_minor": 0
}